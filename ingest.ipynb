{
 "cells": [
  {
   "cell_type": "code",
   "execution_count": 1,
   "metadata": {},
   "outputs": [
    {
     "data": {
      "text/plain": [
       "39"
      ]
     },
     "execution_count": 1,
     "metadata": {},
     "output_type": "execute_result"
    }
   ],
   "source": [
    "import json\n",
    "\n",
    "with open(\"data_pipeline/action.json\") as f:\n",
    "    all_data = json.load(f)\n",
    "\n",
    "len(all_data)"
   ]
  },
  {
   "cell_type": "code",
   "execution_count": 2,
   "metadata": {},
   "outputs": [
    {
     "data": {
      "text/plain": [
       "dict_keys(['name', 'description', 'genre', 'director', 'stars'])"
      ]
     },
     "execution_count": 2,
     "metadata": {},
     "output_type": "execute_result"
    }
   ],
   "source": [
    "all_data[0].keys()"
   ]
  },
  {
   "cell_type": "code",
   "execution_count": 3,
   "metadata": {},
   "outputs": [],
   "source": [
    "def to_string(sample):\n",
    "    information = \"\"\n",
    "    information += f\"The name of film is {sample['name']}. \"\n",
    "    information += sample['description']\n",
    "    genres = ','.join(sample['genre'])\n",
    "    information += f\"The genres of film are {genres}. \"\n",
    "    information += f\"The director of film is {sample['director']}. \"\n",
    "    information += f\"Some stars of the film are {','.join(sample['stars'])}\"\n",
    "    return information"
   ]
  },
  {
   "cell_type": "code",
   "execution_count": 4,
   "metadata": {},
   "outputs": [
    {
     "name": "stderr",
     "output_type": "stream",
     "text": [
      "/home/minh/anaconda3/envs/privategpt/lib/python3.11/site-packages/tqdm/auto.py:21: TqdmWarning: IProgress not found. Please update jupyter and ipywidgets. See https://ipywidgets.readthedocs.io/en/stable/user_install.html\n",
      "  from .autonotebook import tqdm as notebook_tqdm\n"
     ]
    }
   ],
   "source": [
    "from llama_index.core import Document\n",
    "\n",
    "documents = []\n",
    "for doc_data in all_data:\n",
    "    documents.append(Document(text=to_string(doc_data),\n",
    "                            metadata={  \n",
    "                                \"filmname\": doc_data[\"name\"],\n",
    "                            },\n",
    "                            text_template=\"{content}\"))\n"
   ]
  },
  {
   "cell_type": "code",
   "execution_count": 5,
   "metadata": {},
   "outputs": [],
   "source": [
    "from pyvi import ViTokenizer\n",
    "from transformers import AutoTokenizer\n",
    "from llama_index.core.node_parser import TokenTextSplitter, SentenceSplitter\n",
    "\n"
   ]
  },
  {
   "cell_type": "code",
   "execution_count": 6,
   "metadata": {},
   "outputs": [
    {
     "name": "stderr",
     "output_type": "stream",
     "text": [
      "Parsing nodes: 100%|██████████| 39/39 [00:00<00:00, 3724.20it/s]\n"
     ]
    }
   ],
   "source": [
    "base_node_parser = TokenTextSplitter( \n",
    "                                chunk_overlap=0,\n",
    "                                chunk_size=900,\n",
    "                                separator=\" \",\n",
    "                                backup_separators=[\"__\", \"..\", \"--\"],\n",
    "                                include_prev_next_rel=False\n",
    "                                )\n",
    "\n",
    "\n",
    "base_nodes = base_node_parser.get_nodes_from_documents(documents,\n",
    "                                                       show_progress=True)"
   ]
  },
  {
   "cell_type": "code",
   "execution_count": 7,
   "metadata": {},
   "outputs": [
    {
     "data": {
      "text/plain": [
       "39"
      ]
     },
     "execution_count": 7,
     "metadata": {},
     "output_type": "execute_result"
    }
   ],
   "source": [
    "len(base_nodes)"
   ]
  },
  {
   "cell_type": "code",
   "execution_count": 8,
   "metadata": {},
   "outputs": [],
   "source": [
    "child_node_parser= SentenceSplitter(\n",
    "                    chunk_size=600,\n",
    "                    chunk_overlap=90,\n",
    "                    separator=\" \",\n",
    "                    include_prev_next_rel=False,\n",
    "                    )"
   ]
  },
  {
   "cell_type": "code",
   "execution_count": 9,
   "metadata": {},
   "outputs": [
    {
     "name": "stderr",
     "output_type": "stream",
     "text": [
      "Parsing nodes: 100%|██████████| 39/39 [00:00<00:00, 4070.62it/s]\n"
     ]
    }
   ],
   "source": [
    "child_nodes = child_node_parser.get_nodes_from_documents(base_nodes,\n",
    "                                                         show_progress=True)"
   ]
  },
  {
   "cell_type": "code",
   "execution_count": 10,
   "metadata": {},
   "outputs": [
    {
     "data": {
      "text/plain": [
       "39"
      ]
     },
     "execution_count": 10,
     "metadata": {},
     "output_type": "execute_result"
    }
   ],
   "source": [
    "len(child_nodes)"
   ]
  },
  {
   "cell_type": "code",
   "execution_count": 11,
   "metadata": {},
   "outputs": [
    {
     "name": "stderr",
     "output_type": "stream",
     "text": [
      "100%|██████████| 39/39 [00:00<00:00, 495.21it/s]\n"
     ]
    }
   ],
   "source": [
    "from tqdm import tqdm\n",
    "from llama_index.core.schema import NodeRelationship\n",
    "\n",
    "for child_node in tqdm(child_nodes):\n",
    "    child_node.text = ViTokenizer.tokenize(child_node.text.lower())\n",
    "    try:\n",
    "        del child_node.relationships[NodeRelationship.SOURCE].metadata\n",
    "    except AttributeError:\n",
    "        continue"
   ]
  },
  {
   "cell_type": "code",
   "execution_count": 12,
   "metadata": {},
   "outputs": [
    {
     "data": {
      "text/plain": [
       "{'id_': '805cf048-1cb7-49dd-9617-996d81d31a7a',\n",
       " 'embedding': None,\n",
       " 'metadata': {'filmname': 'Die Hard'},\n",
       " 'excluded_embed_metadata_keys': [],\n",
       " 'excluded_llm_metadata_keys': [],\n",
       " 'relationships': {<NodeRelationship.SOURCE: '1'>: {'node_id': 'ca948746-aa49-453c-9f0f-877f87515eef',\n",
       "   'node_type': <ObjectType.TEXT: '1'>,\n",
       "   'hash': 'ec423299550ca45785083cc4bbd2c78e18208eec91516cf043c4a934c07240a7',\n",
       "   'class_name': 'RelatedNodeInfo'}},\n",
       " 'text': 'the name of film is die hard . a new york city police officer tries to save his estranged wife and several others taken hostage by terrorists during a christmas party at the nakatomi plaza in los angeles . the genres of film are action , thriller . the director of film is john mctiernan . some stars of the film are bruce willes , alan rickman , bonnie bedelia',\n",
       " 'start_char_idx': 0,\n",
       " 'end_char_idx': 350,\n",
       " 'text_template': '{content}',\n",
       " 'metadata_template': '{key}: {value}',\n",
       " 'metadata_seperator': '\\n',\n",
       " 'class_name': 'TextNode'}"
      ]
     },
     "execution_count": 12,
     "metadata": {},
     "output_type": "execute_result"
    }
   ],
   "source": [
    "child_nodes[0].to_dict()"
   ]
  },
  {
   "cell_type": "markdown",
   "metadata": {},
   "source": [
    "## Indexing"
   ]
  },
  {
   "cell_type": "code",
   "execution_count": 13,
   "metadata": {},
   "outputs": [
    {
     "name": "stderr",
     "output_type": "stream",
     "text": [
      "13:18:48.970 [WARNING ]               py.warnings - /home/minh/anaconda3/envs/privategpt/lib/python3.11/site-packages/weaviate/warnings.py:121: DeprecationWarning: Dep005: You are using weaviate-client version 3.26.2. The latest version is 4.6.4.\n",
      "            Please consider upgrading to the latest version. See https://weaviate.io/developers/weaviate/client-libraries/python for details.\n",
      "  warnings.warn(\n",
      "\n",
      "Generating embeddings:   0%|          | 0/39 [00:00<?, ?it/s]13:19:05.006 [INFO    ]                     httpx - HTTP Request: POST http://127.0.0.1:8081/embed \"HTTP/1.1 200 OK\"\n",
      "Generating embeddings:  26%|██▌       | 10/39 [00:15<00:46,  1.60s/it]13:19:19.028 [INFO    ]                     httpx - HTTP Request: POST http://127.0.0.1:8081/embed \"HTTP/1.1 200 OK\"\n",
      "Generating embeddings:  51%|█████▏    | 20/39 [00:30<00:28,  1.49s/it]13:19:35.616 [INFO    ]                     httpx - HTTP Request: POST http://127.0.0.1:8081/embed \"HTTP/1.1 200 OK\"\n",
      "Generating embeddings:  77%|███████▋  | 30/39 [00:46<00:14,  1.56s/it]13:19:49.524 [INFO    ]                     httpx - HTTP Request: POST http://127.0.0.1:8081/embed \"HTTP/1.1 200 OK\"\n",
      "Generating embeddings: 100%|██████████| 39/39 [01:00<00:00,  1.55s/it]\n"
     ]
    }
   ],
   "source": [
    "# Save to disk\n",
    "import weaviate\n",
    "from llama_index.vector_stores.weaviate import WeaviateVectorStore\n",
    "from llama_index.core import StorageContext\n",
    "from llama_index.core import VectorStoreIndex\n",
    "from llama_index.embeddings.huggingface import HuggingFaceEmbedding\n",
    "from src.components.embedding.custom.text_embeddings_inference.base import TextEmbeddingsInference\n",
    "\n",
    "\n",
    "WEAVIATE_URL = \"http://localhost:9090\"\n",
    "DATA_COLLECTION = \"Film\"\n",
    "embed_model = TextEmbeddingsInference(base_url=\"http://127.0.0.1:8081\", \n",
    "                                      timeout=60)\n",
    "\n",
    "\n",
    "client = weaviate.Client(WEAVIATE_URL)\n",
    "\n",
    "vector_store = WeaviateVectorStore(weaviate_client=client,\n",
    "                                   index_name=DATA_COLLECTION)\n",
    "\n",
    "storage_context = StorageContext.from_defaults(vector_store=vector_store)\n",
    "\n",
    "index = VectorStoreIndex(child_nodes, \n",
    "                         storage_context=storage_context, \n",
    "                         embed_model=embed_model,\n",
    "                         insert_batch_size=32768,\n",
    "                         show_progress=True)"
   ]
  },
  {
   "cell_type": "code",
   "execution_count": 25,
   "metadata": {},
   "outputs": [
    {
     "name": "stdout",
     "output_type": "stream",
     "text": [
      "Failed to insert data into Weaviate: Argument is not of the supported types. Supported types are url or file path as string or schema as dict.\n"
     ]
    }
   ],
   "source": [
    "data = child_nodes[0]\n",
    "try:\n",
    "    client.data_object.create(\n",
    "        data_object=data,\n",
    "        class_name=DATA_COLLECTION\n",
    "    )\n",
    "    print(\"Data inserted into Weaviate successfully:\", json.dumps(data))\n",
    "except Exception as e:\n",
    "    print(\"Failed to insert data into Weaviate:\", e)"
   ]
  },
  {
   "cell_type": "markdown",
   "metadata": {},
   "source": [
    "## Retrieval"
   ]
  },
  {
   "cell_type": "code",
   "execution_count": 28,
   "metadata": {},
   "outputs": [],
   "source": [
    "from src.components.vector_store.custom.weaviate.base import CustomWeaviateVectorStore\n",
    "from llama_index.core.indices.vector_store import VectorIndexRetriever, VectorStoreIndex\n",
    "\n",
    "from pyvi import ViTokenizer\n",
    "from llama_index.core.response.notebook_utils import display_source_node\n",
    "\n",
    "vector_store = CustomWeaviateVectorStore(\n",
    "                    weaviate_client=client,\n",
    "                    index_name=\"Test_Film\"\n",
    "                )\n",
    "vector_store_index = VectorStoreIndex.from_vector_store(\n",
    "    vector_store=vector_store,\n",
    "    embed_model=embed_model\n",
    ")\n",
    "index = vector_store_index.as_retriever(\n",
    "            similarity_top_k=5, vector_store_query_mode=\"hybrid\"\n",
    "        )\n",
    "\n",
    "# base_retriever = vector_store.(vector_store_query_mode=\"hybrid\",\n",
    "#                                     similarity_top_k=5, \n",
    "#                                     alpha=0.5)"
   ]
  },
  {
   "cell_type": "code",
   "execution_count": null,
   "metadata": {},
   "outputs": [],
   "source": []
  },
  {
   "cell_type": "code",
   "execution_count": 29,
   "metadata": {},
   "outputs": [
    {
     "name": "stderr",
     "output_type": "stream",
     "text": [
      "12:19:38.890 [INFO    ]                     httpx - HTTP Request: POST http://127.0.0.1:8081/embed \"HTTP/1.1 200 OK\"\n"
     ]
    },
    {
     "data": {
      "text/markdown": [
       "**Node ID:** 750cdd08-eb55-4e3a-a501-c7a36e1cae37<br>**Similarity:** 0.98576015<br>**Text:** the name of film is john wick . with the untimely death of his beloved wife still bitter in his mouth , john wick , the expert former assassin , receives one final gift from her - - a precious keepsake to help john find a new meaning in life now that she is gone . but when the arrogant russian mob prince , iosef tarasov , and his men pay wick a rather unwelcome visit to rob him of his prized 1969 mustang and his wife ' s present , the legendary hitman will be forced to unearth his meticulously concealed identity . blind with revenge , john will immediately unleash a carefully orchestrated maelstrom of destruction against the sophisticated kingpin , viggo tarasov , and his family , who are fully aware of his lethal capacity . now , only blood can quench the boogeyman ' s thirst for retribution . the genres of film are action , crime , thriller . the director of film is chad stahelski . some stars of the film are keanu reeves , micheal nyqvist , alfie allen<br>**Metadata:** {'filmname': 'John Wick'}<br>"
      ],
      "text/plain": [
       "<IPython.core.display.Markdown object>"
      ]
     },
     "metadata": {},
     "output_type": "display_data"
    },
    {
     "data": {
      "text/markdown": [
       "**Node ID:** e0f0cacf-a9ed-4ddc-9a4b-91999c02bfa5<br>**Similarity:** 0.985842986<br>**Text:** the name of film is speed . when a young los angeles police department , special weapons and tactics ( s . w . a . t . ) officer called jack traven angers retired atlanta police department bomb squad member howard payne , by foiling his attempt at taking hostages stuck in an elevator with a bomb , payne in retaliation arms a bus with a bomb that will explode if it drops below 50 miles per hour . with the help of spunky passenger annie , jack and his partner detective harry temple try to save the people on the bus before the bomb goes off , while also trying to figure out how payne is monitoring them . the genres of film are action , adventure , thriller . the director of film is jan de bont . some stars of the film are keanu reeves , dennis hopper , sandra bullock<br>**Metadata:** {'filmname': 'Speed'}<br>"
      ],
      "text/plain": [
       "<IPython.core.display.Markdown object>"
      ]
     },
     "metadata": {},
     "output_type": "display_data"
    },
    {
     "data": {
      "text/markdown": [
       "**Node ID:** 7ecb8c0e-e324-49cd-a984-02d45775896d<br>**Similarity:** 0.985866683<br>**Text:** the name of film is die hard with a vengeance . john mcclane is now almost a full - blown alcoholic and is suspended from the nypd . but when a bomb goes off in the bonwit teller department store the police go insane trying to figure out what ' s going on . soon , a man named simon calls and asks for mcclane . simon tells inspector walter cobb that mcclane is going to play a game called simon says . he says that mcclane is going to do the tasks he assigns him . if not , he ' ll set off another bomb . with the help of a harlem electrician , john mcclane must race all over new york trying to figure out the frustrating puzzles that the crafty terrorist gives him . but when a bomb goes off in a subway station right by the federal reserve ( the biggest gold storage in the world ) things start to get heated . the genres of film are action , adventure , thriller . the director of film is john mctiernan . some stars of the film are bruce willes , jeremy irons , samuel l . jackson<br>**Metadata:** {'filmname': 'Die Hard with a Vengeance'}<br>"
      ],
      "text/plain": [
       "<IPython.core.display.Markdown object>"
      ]
     },
     "metadata": {},
     "output_type": "display_data"
    },
    {
     "data": {
      "text/markdown": [
       "**Node ID:** 488b4d1d-d683-41c8-ba01-964203e63201<br>**Similarity:** 0.985961539<br>**Text:** the name of film is last action hero . young danny madigan is a huge fan of jack slater , a larger - than - life action hero played by arnold schwarzenegger . when his best friend , nick the projectionist , gives him a magic ticket to the newest jack slater movie , danny is transported into slater ' s world , his number one hero where the good guys always win . it ' s a dream come true for danny , but things take a turn for the worse when one of slater ' s enemies , benedict the hit man , gets ahold of the ticket and ends up in danny ' s world . slater and danny must join forces and travel back and stop him at all costs before it ' ll be the end of jack slater . the genres of film are action , adventure , comedy , fantasy . the director of film is john mctiernan . some stars of the film are arnold schwarzenegger , f . , paul freeman<br>**Metadata:** {'filmname': 'Last Action Hero'}<br>"
      ],
      "text/plain": [
       "<IPython.core.display.Markdown object>"
      ]
     },
     "metadata": {},
     "output_type": "display_data"
    }
   ],
   "source": [
    "TEST_QUESTION = \"I want to watch film about hitman\"\n",
    "retrievals = index.retrieve(\n",
    "    TEST_QUESTION.lower()\n",
    ")\n",
    "\n",
    "for n in retrievals[:5]:\n",
    "    display_source_node(n, source_length=1000, show_source_metadata=True)"
   ]
  },
  {
   "cell_type": "code",
   "execution_count": null,
   "metadata": {},
   "outputs": [],
   "source": []
  }
 ],
 "metadata": {
  "kernelspec": {
   "display_name": "privategpt",
   "language": "python",
   "name": "python3"
  },
  "language_info": {
   "codemirror_mode": {
    "name": "ipython",
    "version": 3
   },
   "file_extension": ".py",
   "mimetype": "text/x-python",
   "name": "python",
   "nbconvert_exporter": "python",
   "pygments_lexer": "ipython3",
   "version": "3.11.8"
  }
 },
 "nbformat": 4,
 "nbformat_minor": 2
}
